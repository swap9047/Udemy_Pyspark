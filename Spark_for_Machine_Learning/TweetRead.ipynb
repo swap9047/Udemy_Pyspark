{
 "cells": [
  {
   "cell_type": "code",
   "execution_count": null,
   "metadata": {},
   "outputs": [],
   "source": [
    "import tweepy\n",
    "from tweepy import OAuthHandler,Stream"
   ]
  },
  {
   "cell_type": "code",
   "execution_count": null,
   "metadata": {},
   "outputs": [],
   "source": [
    "from tweepy.streaming import StreamListener\n",
    "import socket\n",
    "import json"
   ]
  },
  {
   "cell_type": "code",
   "execution_count": null,
   "metadata": {},
   "outputs": [],
   "source": [
    "consumer_key=''\n",
    "consumer_secret=''\n",
    "access_token=''\n",
    "access_secret=''`"
   ]
  },
  {
   "cell_type": "code",
   "execution_count": null,
   "metadata": {},
   "outputs": [],
   "source": [
    "class TweetListener(StreamListener):\n",
    "    \n",
    "    def __init__(self,csocket):\n",
    "        self.client_socket=csocket\n",
    "    \n",
    "    def on_data(self,data):\n",
    "       \n",
    "        try:\n",
    "            msg=json.loads(data)\n",
    "            print(msg['text'].encode('utf-8'))\n",
    "            self.client_socket.send(msg['text'].encode('utf-8'))\n",
    "            return True\n",
    "        except BaseException as e:\n",
    "            print('ERROR',e)\n",
    "            return True\n",
    "    \n",
    "    def on_error(self,status):\n",
    "        print(status)\n",
    "        return True\n",
    "    \n",
    "    "
   ]
  },
  {
   "cell_type": "code",
   "execution_count": null,
   "metadata": {},
   "outputs": [],
   "source": [
    "def sendData(c_socket):\n",
    "    auth=OAuthHandler(consumer_key,consumer_secret)\n",
    "    auth.set_access_token(access_token,access_secret)\n",
    "    twitter_stream=Stream(auth,TweetListener(c_socket))\n",
    "    twitter_stream.filter(track=['guitar'])"
   ]
  },
  {
   "cell_type": "code",
   "execution_count": null,
   "metadata": {},
   "outputs": [],
   "source": [
    "if __name__='__main__':\n",
    "    s=socket.scoket()\n",
    "    host='127.0.0.1'\n",
    "    port =5555\n",
    "    s.bind((host,port))\n",
    "    print('listening on port 5555')\n",
    "    s.listen(5)\n",
    "    c,addr=s.accept()\n",
    "    sendData(c)"
   ]
  }
 ],
 "metadata": {
  "kernelspec": {
   "display_name": "Python 3",
   "language": "python",
   "name": "python3"
  },
  "language_info": {
   "codemirror_mode": {
    "name": "ipython",
    "version": 3
   },
   "file_extension": ".py",
   "mimetype": "text/x-python",
   "name": "python",
   "nbconvert_exporter": "python",
   "pygments_lexer": "ipython3",
   "version": "3.6.4"
  }
 },
 "nbformat": 4,
 "nbformat_minor": 2
}
